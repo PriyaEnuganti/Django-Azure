{
  "cells": [
    {
      "cell_type": "code",
      "source": [
        "pip install contractions"
      ],
      "metadata": {
        "colab": {
          "base_uri": "https://localhost:8080/"
        },
        "id": "-rDBp9RCkM3D",
        "outputId": "4fb70445-f384-40c0-de87-11f11f82b89a"
      },
      "id": "-rDBp9RCkM3D",
      "execution_count": null,
      "outputs": [
        {
          "output_type": "stream",
          "name": "stdout",
          "text": [
            "Requirement already satisfied: contractions in /usr/local/lib/python3.7/dist-packages (0.1.66)\n",
            "Requirement already satisfied: textsearch>=0.0.21 in /usr/local/lib/python3.7/dist-packages (from contractions) (0.0.21)\n",
            "Requirement already satisfied: pyahocorasick in /usr/local/lib/python3.7/dist-packages (from textsearch>=0.0.21->contractions) (1.4.4)\n",
            "Requirement already satisfied: anyascii in /usr/local/lib/python3.7/dist-packages (from textsearch>=0.0.21->contractions) (0.3.0)\n"
          ]
        }
      ]
    },
    {
      "cell_type": "code",
      "source": [
        "pip install emoji"
      ],
      "metadata": {
        "colab": {
          "base_uri": "https://localhost:8080/"
        },
        "id": "-HNaIzMbkDHu",
        "outputId": "3c4931ac-cac4-4287-8a56-f3398f8c9ff1"
      },
      "id": "-HNaIzMbkDHu",
      "execution_count": null,
      "outputs": [
        {
          "output_type": "stream",
          "name": "stdout",
          "text": [
            "Requirement already satisfied: emoji in /usr/local/lib/python3.7/dist-packages (1.6.3)\n"
          ]
        }
      ]
    },
    {
      "cell_type": "code",
      "source": [
        "pip install unidecode"
      ],
      "metadata": {
        "colab": {
          "base_uri": "https://localhost:8080/"
        },
        "id": "9PlFKWlJkWYZ",
        "outputId": "ca514113-c70a-4740-8b2c-55d0b8ecb175"
      },
      "id": "9PlFKWlJkWYZ",
      "execution_count": null,
      "outputs": [
        {
          "output_type": "stream",
          "name": "stdout",
          "text": [
            "Requirement already satisfied: unidecode in /usr/local/lib/python3.7/dist-packages (1.3.3)\n"
          ]
        }
      ]
    },
    {
      "cell_type": "code",
      "execution_count": null,
      "id": "ba442013",
      "metadata": {
        "colab": {
          "base_uri": "https://localhost:8080/"
        },
        "id": "ba442013",
        "outputId": "54dd86b2-e320-410a-fa5b-f765e17948f0"
      },
      "outputs": [
        {
          "output_type": "stream",
          "name": "stdout",
          "text": [
            "[nltk_data] Downloading package stopwords to /root/nltk_data...\n",
            "[nltk_data]   Package stopwords is already up-to-date!\n",
            "[nltk_data] Downloading package punkt to /root/nltk_data...\n",
            "[nltk_data]   Package punkt is already up-to-date!\n",
            "[nltk_data] Downloading package omw-1.4 to /root/nltk_data...\n",
            "[nltk_data]   Package omw-1.4 is already up-to-date!\n"
          ]
        }
      ],
      "source": [
        "import pandas as pd\n",
        "import numpy as np\n",
        "import nltk\n",
        "import re\n",
        "import emoji\n",
        "import matplotlib.pyplot as plt\n",
        "import sklearn\n",
        "from wordcloud import WordCloud\n",
        "from nltk.stem import WordNetLemmatizer\n",
        "from nltk.corpus import stopwords\n",
        "from nltk.tokenize import word_tokenize\n",
        "from nltk.corpus import stopwords\n",
        "from nltk.stem import WordNetLemmatizer\n",
        "from nltk.corpus import wordnet\n",
        "nltk.download('stopwords');\n",
        "nltk.download('punkt');\n",
        "nltk.download('omw-1.4');\n",
        "import contractions\n",
        "import unidecode"
      ]
    },
    {
      "cell_type": "code",
      "execution_count": null,
      "id": "4d614e5f",
      "metadata": {
        "colab": {
          "base_uri": "https://localhost:8080/"
        },
        "id": "4d614e5f",
        "outputId": "2081a3ad-a7f2-4a22-caa4-82e2b62c98c1"
      },
      "outputs": [
        {
          "output_type": "stream",
          "name": "stdout",
          "text": [
            "[nltk_data] Downloading package wordnet to /root/nltk_data...\n",
            "[nltk_data]   Package wordnet is already up-to-date!\n"
          ]
        },
        {
          "output_type": "execute_result",
          "data": {
            "text/plain": [
              "True"
            ]
          },
          "metadata": {},
          "execution_count": 13
        }
      ],
      "source": [
        "import unidecode\n",
        "nltk.download('wordnet')"
      ]
    },
    {
      "cell_type": "code",
      "execution_count": null,
      "id": "c4758694",
      "metadata": {
        "id": "c4758694"
      },
      "outputs": [],
      "source": [
        "raw_tweets = pd.read_csv('BalancedTwitterDataset.csv')\n",
        "raw_tweets_test = pd.read_csv('TestTwitterData.csv')"
      ]
    },
    {
      "cell_type": "code",
      "execution_count": null,
      "id": "b7d18245",
      "metadata": {
        "colab": {
          "base_uri": "https://localhost:8080/",
          "height": 363
        },
        "id": "b7d18245",
        "outputId": "83465680-55e3-4c78-c350-633779814c7f"
      },
      "outputs": [
        {
          "output_type": "execute_result",
          "data": {
            "text/html": [
              "\n",
              "  <div id=\"df-7ab3f97a-55ab-404e-80b7-6138358534f4\">\n",
              "    <div class=\"colab-df-container\">\n",
              "      <div>\n",
              "<style scoped>\n",
              "    .dataframe tbody tr th:only-of-type {\n",
              "        vertical-align: middle;\n",
              "    }\n",
              "\n",
              "    .dataframe tbody tr th {\n",
              "        vertical-align: top;\n",
              "    }\n",
              "\n",
              "    .dataframe thead th {\n",
              "        text-align: right;\n",
              "    }\n",
              "</style>\n",
              "<table border=\"1\" class=\"dataframe\">\n",
              "  <thead>\n",
              "    <tr style=\"text-align: right;\">\n",
              "      <th></th>\n",
              "      <th>Unnamed: 0</th>\n",
              "      <th>label</th>\n",
              "      <th>tweet</th>\n",
              "    </tr>\n",
              "  </thead>\n",
              "  <tbody>\n",
              "    <tr>\n",
              "      <th>0</th>\n",
              "      <td>0</td>\n",
              "      <td>0</td>\n",
              "      <td>#sukhbir #badal announces more office-bearers ...</td>\n",
              "    </tr>\n",
              "    <tr>\n",
              "      <th>1</th>\n",
              "      <td>1</td>\n",
              "      <td>1</td>\n",
              "      <td>my family's horrible  attack at #thegreenpalmc...</td>\n",
              "    </tr>\n",
              "    <tr>\n",
              "      <th>2</th>\n",
              "      <td>2</td>\n",
              "      <td>0</td>\n",
              "      <td>my boys ððððð #drunknights #dru...</td>\n",
              "    </tr>\n",
              "    <tr>\n",
              "      <th>3</th>\n",
              "      <td>3</td>\n",
              "      <td>0</td>\n",
              "      <td>father's day # i m really vry lucky to hav u...</td>\n",
              "    </tr>\n",
              "    <tr>\n",
              "      <th>4</th>\n",
              "      <td>4</td>\n",
              "      <td>1</td>\n",
              "      <td>smh i cant take these one sided standards</td>\n",
              "    </tr>\n",
              "    <tr>\n",
              "      <th>5</th>\n",
              "      <td>5</td>\n",
              "      <td>1</td>\n",
              "      <td>@user what do you think of #alexjones saying #...</td>\n",
              "    </tr>\n",
              "    <tr>\n",
              "      <th>6</th>\n",
              "      <td>6</td>\n",
              "      <td>1</td>\n",
              "      <td>smoke out the old year and new year at the sam...</td>\n",
              "    </tr>\n",
              "    <tr>\n",
              "      <th>7</th>\n",
              "      <td>7</td>\n",
              "      <td>1</td>\n",
              "      <td>(advanced value chain videos at  ) #valuechain</td>\n",
              "    </tr>\n",
              "    <tr>\n",
              "      <th>8</th>\n",
              "      <td>8</td>\n",
              "      <td>1</td>\n",
              "      <td>this. #treasonoustrump, unsatisfied with his #...</td>\n",
              "    </tr>\n",
              "    <tr>\n",
              "      <th>9</th>\n",
              "      <td>9</td>\n",
              "      <td>0</td>\n",
              "      <td>#buffalo   bull up: you will dominate your bul...</td>\n",
              "    </tr>\n",
              "  </tbody>\n",
              "</table>\n",
              "</div>\n",
              "      <button class=\"colab-df-convert\" onclick=\"convertToInteractive('df-7ab3f97a-55ab-404e-80b7-6138358534f4')\"\n",
              "              title=\"Convert this dataframe to an interactive table.\"\n",
              "              style=\"display:none;\">\n",
              "        \n",
              "  <svg xmlns=\"http://www.w3.org/2000/svg\" height=\"24px\"viewBox=\"0 0 24 24\"\n",
              "       width=\"24px\">\n",
              "    <path d=\"M0 0h24v24H0V0z\" fill=\"none\"/>\n",
              "    <path d=\"M18.56 5.44l.94 2.06.94-2.06 2.06-.94-2.06-.94-.94-2.06-.94 2.06-2.06.94zm-11 1L8.5 8.5l.94-2.06 2.06-.94-2.06-.94L8.5 2.5l-.94 2.06-2.06.94zm10 10l.94 2.06.94-2.06 2.06-.94-2.06-.94-.94-2.06-.94 2.06-2.06.94z\"/><path d=\"M17.41 7.96l-1.37-1.37c-.4-.4-.92-.59-1.43-.59-.52 0-1.04.2-1.43.59L10.3 9.45l-7.72 7.72c-.78.78-.78 2.05 0 2.83L4 21.41c.39.39.9.59 1.41.59.51 0 1.02-.2 1.41-.59l7.78-7.78 2.81-2.81c.8-.78.8-2.07 0-2.86zM5.41 20L4 18.59l7.72-7.72 1.47 1.35L5.41 20z\"/>\n",
              "  </svg>\n",
              "      </button>\n",
              "      \n",
              "  <style>\n",
              "    .colab-df-container {\n",
              "      display:flex;\n",
              "      flex-wrap:wrap;\n",
              "      gap: 12px;\n",
              "    }\n",
              "\n",
              "    .colab-df-convert {\n",
              "      background-color: #E8F0FE;\n",
              "      border: none;\n",
              "      border-radius: 50%;\n",
              "      cursor: pointer;\n",
              "      display: none;\n",
              "      fill: #1967D2;\n",
              "      height: 32px;\n",
              "      padding: 0 0 0 0;\n",
              "      width: 32px;\n",
              "    }\n",
              "\n",
              "    .colab-df-convert:hover {\n",
              "      background-color: #E2EBFA;\n",
              "      box-shadow: 0px 1px 2px rgba(60, 64, 67, 0.3), 0px 1px 3px 1px rgba(60, 64, 67, 0.15);\n",
              "      fill: #174EA6;\n",
              "    }\n",
              "\n",
              "    [theme=dark] .colab-df-convert {\n",
              "      background-color: #3B4455;\n",
              "      fill: #D2E3FC;\n",
              "    }\n",
              "\n",
              "    [theme=dark] .colab-df-convert:hover {\n",
              "      background-color: #434B5C;\n",
              "      box-shadow: 0px 1px 3px 1px rgba(0, 0, 0, 0.15);\n",
              "      filter: drop-shadow(0px 1px 2px rgba(0, 0, 0, 0.3));\n",
              "      fill: #FFFFFF;\n",
              "    }\n",
              "  </style>\n",
              "\n",
              "      <script>\n",
              "        const buttonEl =\n",
              "          document.querySelector('#df-7ab3f97a-55ab-404e-80b7-6138358534f4 button.colab-df-convert');\n",
              "        buttonEl.style.display =\n",
              "          google.colab.kernel.accessAllowed ? 'block' : 'none';\n",
              "\n",
              "        async function convertToInteractive(key) {\n",
              "          const element = document.querySelector('#df-7ab3f97a-55ab-404e-80b7-6138358534f4');\n",
              "          const dataTable =\n",
              "            await google.colab.kernel.invokeFunction('convertToInteractive',\n",
              "                                                     [key], {});\n",
              "          if (!dataTable) return;\n",
              "\n",
              "          const docLinkHtml = 'Like what you see? Visit the ' +\n",
              "            '<a target=\"_blank\" href=https://colab.research.google.com/notebooks/data_table.ipynb>data table notebook</a>'\n",
              "            + ' to learn more about interactive tables.';\n",
              "          element.innerHTML = '';\n",
              "          dataTable['output_type'] = 'display_data';\n",
              "          await google.colab.output.renderOutput(dataTable, element);\n",
              "          const docLink = document.createElement('div');\n",
              "          docLink.innerHTML = docLinkHtml;\n",
              "          element.appendChild(docLink);\n",
              "        }\n",
              "      </script>\n",
              "    </div>\n",
              "  </div>\n",
              "  "
            ],
            "text/plain": [
              "   Unnamed: 0  label                                              tweet\n",
              "0           0      0  #sukhbir #badal announces more office-bearers ...\n",
              "1           1      1  my family's horrible  attack at #thegreenpalmc...\n",
              "2           2      0  my boys ððððð #drunknights #dru...\n",
              "3           3      0    father's day # i m really vry lucky to hav u...\n",
              "4           4      1         smh i cant take these one sided standards \n",
              "5           5      1  @user what do you think of #alexjones saying #...\n",
              "6           6      1  smoke out the old year and new year at the sam...\n",
              "7           7      1    (advanced value chain videos at  ) #valuechain \n",
              "8           8      1  this. #treasonoustrump, unsatisfied with his #...\n",
              "9           9      0  #buffalo   bull up: you will dominate your bul..."
            ]
          },
          "metadata": {},
          "execution_count": 15
        }
      ],
      "source": [
        "raw_tweets.head(10)"
      ]
    },
    {
      "cell_type": "code",
      "execution_count": null,
      "id": "67472cd3",
      "metadata": {
        "colab": {
          "base_uri": "https://localhost:8080/"
        },
        "id": "67472cd3",
        "outputId": "158b55b8-d58c-4d85-b186-b4044c9d4e6c"
      },
      "outputs": [
        {
          "output_type": "execute_result",
          "data": {
            "text/plain": [
              "4442"
            ]
          },
          "metadata": {},
          "execution_count": 16
        }
      ],
      "source": [
        "len(raw_tweets)"
      ]
    },
    {
      "cell_type": "code",
      "execution_count": null,
      "id": "3b486227",
      "metadata": {
        "colab": {
          "base_uri": "https://localhost:8080/"
        },
        "id": "3b486227",
        "outputId": "f0d3ea43-0dc1-40bb-a49a-6d2c4f2cf21c"
      },
      "outputs": [
        {
          "output_type": "execute_result",
          "data": {
            "text/plain": [
              "1    2242\n",
              "0    2200\n",
              "Name: label, dtype: int64"
            ]
          },
          "metadata": {},
          "execution_count": 17
        }
      ],
      "source": [
        "sentiment = raw_tweets['label'].value_counts()\n",
        "sentiment"
      ]
    },
    {
      "cell_type": "code",
      "execution_count": null,
      "id": "9127f433",
      "metadata": {
        "colab": {
          "base_uri": "https://localhost:8080/",
          "height": 248
        },
        "id": "9127f433",
        "outputId": "fd016067-698d-4889-dcbe-9bd22e99bdc7"
      },
      "outputs": [
        {
          "output_type": "display_data",
          "data": {
            "image/png": "[encoded data removed]",
            "text/plain": [
              "<Figure size 432x288 with 1 Axes>"
            ]
          },
          "metadata": {}
        }
      ],
      "source": [
        "plt.pie(sentiment,labels=[\"hateful tweets\", \"non-hateful tweets\"], autopct=\"%1.1f%%\", shadow=True, startangle=140);\n",
        "plt.show();"
      ]
    },
    {
      "cell_type": "code",
      "execution_count": null,
      "id": "1eb1144d",
      "metadata": {
        "colab": {
          "base_uri": "https://localhost:8080/"
        },
        "id": "1eb1144d",
        "outputId": "a593c2b0-7e63-492e-93c3-b2af81376a84"
      },
      "outputs": [
        {
          "output_type": "stream",
          "name": "stdout",
          "text": [
            "neutral tweets: 2200\n",
            "hateful tweets: 2242\n"
          ]
        }
      ],
      "source": [
        "print(f'neutral tweets: {raw_tweets[raw_tweets.label==0].count()[0]}')\n",
        "print(f'hateful tweets: {raw_tweets[raw_tweets.label==1].count()[0]}')"
      ]
    },
    {
      "cell_type": "code",
      "execution_count": null,
      "id": "e7c83949",
      "metadata": {
        "colab": {
          "base_uri": "https://localhost:8080/",
          "height": 198
        },
        "id": "e7c83949",
        "outputId": "508e6e51-e57b-4fa8-956d-960e69c90dc2"
      },
      "outputs": [
        {
          "output_type": "display_data",
          "data": {
            "image/png": "[encoded data removed]",
            "text/plain": [
              "<Figure size 432x288 with 1 Axes>"
            ]
          },
          "metadata": {
            "needs_background": "light"
          }
        }
      ],
      "source": [
        "hate_tweets = raw_tweets[raw_tweets['label']==1]\n",
        "hate_text = \"\".join(hate_tweet.lower() for hate_tweet in hate_tweets['tweet'])\n",
        "wordcloud = WordCloud().generate(hate_text)\n",
        "\n",
        "plt.imshow(wordcloud, interpolation='bilinear')\n",
        "plt.axis(\"off\")\n",
        "plt.show()"
      ]
    },
    {
      "cell_type": "markdown",
      "id": "9d638c53",
      "metadata": {
        "id": "9d638c53"
      },
      "source": [
        "##### Remove RT (re-tweet) text from tweet if exists"
      ]
    },
    {
      "cell_type": "code",
      "execution_count": null,
      "id": "be4c291a",
      "metadata": {
        "id": "be4c291a"
      },
      "outputs": [],
      "source": [
        "def remove_retweet(tweet):\n",
        "    tweet = re.sub('RT\\s+', '', tweet)\n",
        "    return tweet   "
      ]
    },
    {
      "cell_type": "markdown",
      "id": "af50498a",
      "metadata": {
        "id": "af50498a"
      },
      "source": [
        "Remove numbers from tweets"
      ]
    },
    {
      "cell_type": "code",
      "execution_count": null,
      "id": "9751821a",
      "metadata": {
        "id": "9751821a"
      },
      "outputs": [],
      "source": [
        "def remove_numbers(tweet):\n",
        "    return  re.sub(r'[0-9]+', '',tweet)"
      ]
    },
    {
      "cell_type": "markdown",
      "id": "8058bf51",
      "metadata": {
        "id": "8058bf51"
      },
      "source": [
        "Remove greek characters"
      ]
    },
    {
      "cell_type": "code",
      "execution_count": null,
      "id": "f1128a4a",
      "metadata": {
        "id": "f1128a4a"
      },
      "outputs": [],
      "source": [
        "def remove_greek(tweet):\n",
        "    return unidecode.unidecode(tweet)"
      ]
    },
    {
      "cell_type": "markdown",
      "id": "17098fda",
      "metadata": {
        "id": "17098fda"
      },
      "source": [
        "##### Remove user tag @user"
      ]
    },
    {
      "cell_type": "code",
      "execution_count": null,
      "id": "2d5fcb5d",
      "metadata": {
        "id": "2d5fcb5d"
      },
      "outputs": [],
      "source": [
        "def remove_user_tag(tweet):\n",
        "    tweet = re.sub('\\B@\\w+', '', tweet)\n",
        "    return tweet "
      ]
    },
    {
      "cell_type": "markdown",
      "id": "f919eeaa",
      "metadata": {
        "id": "f919eeaa"
      },
      "source": [
        "##### Decode emojis if any"
      ]
    },
    {
      "cell_type": "code",
      "execution_count": null,
      "id": "a4f0c6f9",
      "metadata": {
        "id": "a4f0c6f9"
      },
      "outputs": [],
      "source": [
        "def decode_emoji(tweet):\n",
        "    tweet = emoji.demojize(tweet)\n",
        "    return tweet"
      ]
    },
    {
      "cell_type": "markdown",
      "id": "89a062e9",
      "metadata": {
        "id": "89a062e9"
      },
      "source": [
        "##### Remove URL"
      ]
    },
    {
      "cell_type": "code",
      "execution_count": null,
      "id": "317bf09b",
      "metadata": {
        "id": "317bf09b"
      },
      "outputs": [],
      "source": [
        "def remove_url(tweet):\n",
        "    tweet = re.sub('(http|https):\\/\\/\\S+', '', tweet)\n",
        "    return tweet "
      ]
    },
    {
      "cell_type": "markdown",
      "id": "811d5848",
      "metadata": {
        "id": "811d5848"
      },
      "source": [
        "##### Remove hashtags"
      ]
    },
    {
      "cell_type": "code",
      "execution_count": null,
      "id": "6a6652b2",
      "metadata": {
        "id": "6a6652b2"
      },
      "outputs": [],
      "source": [
        "def remove_hashtag(tweet):\n",
        "    tweet = re.sub(r'#+', '', tweet)\n",
        "    return tweet "
      ]
    },
    {
      "cell_type": "markdown",
      "id": "f499a942",
      "metadata": {
        "id": "f499a942"
      },
      "source": [
        "##### Handling word features"
      ]
    },
    {
      "cell_type": "code",
      "execution_count": null,
      "id": "aaefaafa",
      "metadata": {
        "id": "aaefaafa"
      },
      "outputs": [],
      "source": [
        "# Change all words to lowercase\n",
        "\n",
        "def to_lowercase(tweet):\n",
        "    tweet = tweet.lower()\n",
        "    return tweet"
      ]
    },
    {
      "cell_type": "code",
      "execution_count": null,
      "id": "6bda289e",
      "metadata": {
        "id": "6bda289e"
      },
      "outputs": [],
      "source": [
        "# Remove special characters\n",
        "\n",
        "def remove_special_char(tweet):\n",
        "    tweet = re.sub(r'[^A-Za-z]+\\s?', ' ', tweet)\n",
        "    return tweet"
      ]
    },
    {
      "cell_type": "code",
      "execution_count": null,
      "id": "21cac45f",
      "metadata": {
        "id": "21cac45f"
      },
      "outputs": [],
      "source": [
        "# Remove words with two or less characters\n",
        "\n",
        "def remove_short_char(tweet):\n",
        "    tweet = re.sub(r'\\b\\w{1,2}\\b', ' ', tweet)\n",
        "    return tweet"
      ]
    },
    {
      "cell_type": "markdown",
      "id": "8bc63cad",
      "metadata": {
        "id": "8bc63cad"
      },
      "source": [
        "##### Word contractions"
      ]
    },
    {
      "cell_type": "code",
      "execution_count": null,
      "id": "c21df32e",
      "metadata": {
        "id": "c21df32e"
      },
      "outputs": [],
      "source": [
        "def contraction_expand(tweet):\n",
        "    tweet = contractions.fix(tweet)\n",
        "    return tweet"
      ]
    },
    {
      "cell_type": "markdown",
      "id": "b9b74352",
      "metadata": {
        "id": "b9b74352"
      },
      "source": [
        "##### Checking for stop words"
      ]
    },
    {
      "cell_type": "code",
      "execution_count": null,
      "id": "aa13b4b2",
      "metadata": {
        "id": "aa13b4b2"
      },
      "outputs": [],
      "source": [
        "stop_words = set(nltk.corpus.stopwords.words('english'))"
      ]
    },
    {
      "cell_type": "code",
      "execution_count": null,
      "id": "ce628fd3",
      "metadata": {
        "id": "ce628fd3"
      },
      "outputs": [],
      "source": [
        "def tokenize_tweet(tweet):\n",
        "  \n",
        "  token_list = word_tokenize(tweet)\n",
        "  stopwords = nltk.corpus.stopwords.words('english')\n",
        "\n",
        "  # adding twitter specific stop words  \n",
        "  new_stopwords = [\"amp\", \"sm1\", 'smh', 'idk', 'idc', 'lol', 'lmao', 'btw', 'fml', 'fyi', 'ftw', 'ftl', 'icymi', 'mtf'\n",
        "                  ,'tbh', 'tbt', 'wtv', 'might', 'new']\n",
        "  stopwords.extend(new_stopwords)\n",
        "  token_list = [token for token in token_list if not token in stopwords]\n",
        "\n",
        "  return token_list"
      ]
    },
    {
      "cell_type": "markdown",
      "id": "da3663ea",
      "metadata": {
        "id": "da3663ea"
      },
      "source": [
        "##### Lemmatization"
      ]
    },
    {
      "cell_type": "code",
      "execution_count": null,
      "id": "85cd2759",
      "metadata": {
        "id": "85cd2759"
      },
      "outputs": [],
      "source": [
        "def lemmatize_tweets(tokens,lemmatizer):\n",
        "  token_list = []\n",
        "  for token in tokens:\n",
        "    token_list.append(lemmatizer.lemmatize(token))\n",
        "  return token_list"
      ]
    },
    {
      "cell_type": "markdown",
      "id": "e5025f89",
      "metadata": {
        "id": "e5025f89"
      },
      "source": [
        "##### Tweet pre-processing"
      ]
    },
    {
      "cell_type": "code",
      "execution_count": null,
      "id": "80e8d119",
      "metadata": {
        "id": "80e8d119"
      },
      "outputs": [],
      "source": [
        "def preprocess_tweet(tweet):\n",
        "  \n",
        "  # Cleaning tweets\n",
        "  tweet = remove_retweet(tweet) \n",
        "  tweet=remove_numbers(tweet)\n",
        "  tweet=remove_greek(tweet)\n",
        "  tweet = remove_user_tag(tweet)\n",
        "  tweet = remove_url(tweet)\n",
        "  tweet = remove_hashtag(tweet)  \n",
        "  tweet = decode_emoji(tweet)\n",
        "  \n",
        "  # Handling word-features\n",
        "  tweet = to_lowercase(tweet)\n",
        "  tweet = contraction_expand(tweet) \n",
        "  tweet = remove_special_char(tweet)\n",
        "  tweet = remove_short_char(tweet)  \n",
        "  \n",
        "  # Tokenizing & Lemmatizing\n",
        "  tokens = tokenize_tweet(tweet) \n",
        "  tweet_lemmatizer = WordNetLemmatizer();\n",
        "  lemma = lemmatize_tweets(tokens, tweet_lemmatizer) \n",
        "    \n",
        "  return lemma"
      ]
    },
    {
      "cell_type": "code",
      "execution_count": null,
      "id": "bddb2b2e",
      "metadata": {
        "id": "bddb2b2e"
      },
      "outputs": [],
      "source": [
        "raw_tweets[\"tokens\"] = raw_tweets[\"tweet\"].apply(preprocess_tweet) \n",
        "raw_tweets_test[\"tokens\"] = raw_tweets_test[\"tweet\"].apply(preprocess_tweet) "
      ]
    },
    {
      "cell_type": "code",
      "execution_count": null,
      "id": "f49ae4ed",
      "metadata": {
        "id": "f49ae4ed"
      },
      "outputs": [],
      "source": [
        "def clean_tweets(tokenlist):\n",
        "     return ' '.join(tokenlist)\n",
        "    "
      ]
    },
    {
      "cell_type": "code",
      "execution_count": null,
      "id": "6fe35a44",
      "metadata": {
        "id": "6fe35a44"
      },
      "outputs": [],
      "source": [
        "raw_tweets['clean_tweet']=raw_tweets[\"tokens\"].apply(clean_tweets)"
      ]
    },
    {
      "cell_type": "code",
      "execution_count": null,
      "id": "972ce63e",
      "metadata": {
        "id": "972ce63e"
      },
      "outputs": [],
      "source": [
        "clean_tweets=raw_tweets"
      ]
    },
    {
      "cell_type": "code",
      "source": [
        "def clean_tweets_test(tokenlist):\n",
        "     return ' '.join(tokenlist)"
      ],
      "metadata": {
        "id": "mfvm76Kkom1j"
      },
      "id": "mfvm76Kkom1j",
      "execution_count": null,
      "outputs": []
    },
    {
      "cell_type": "code",
      "source": [
        "raw_tweets_test['clean_tweet']=raw_tweets_test[\"tokens\"].apply(clean_tweets_test)"
      ],
      "metadata": {
        "id": "ni0riPJAorwj"
      },
      "id": "ni0riPJAorwj",
      "execution_count": null,
      "outputs": []
    },
    {
      "cell_type": "code",
      "source": [
        "clean_tweets_test=raw_tweets_test"
      ],
      "metadata": {
        "id": "ARn4529Qo05Q"
      },
      "id": "ARn4529Qo05Q",
      "execution_count": null,
      "outputs": []
    },
    {
      "cell_type": "markdown",
      "id": "b0fb16e5",
      "metadata": {
        "id": "b0fb16e5"
      },
      "source": [
        "### Text vectorization"
      ]
    },
    {
      "cell_type": "markdown",
      "id": "08b19416",
      "metadata": {
        "id": "08b19416"
      },
      "source": [
        "##### Term Frequency | Inverse Document Frequency Vectorizer"
      ]
    },
    {
      "cell_type": "code",
      "execution_count": null,
      "id": "b094afbe",
      "metadata": {
        "id": "b094afbe"
      },
      "outputs": [],
      "source": [
        "from sklearn.feature_extraction.text import TfidfVectorizer"
      ]
    },
    {
      "cell_type": "code",
      "execution_count": null,
      "id": "0cb2ec2c",
      "metadata": {
        "id": "0cb2ec2c"
      },
      "outputs": [],
      "source": [
        "#Y is the outcome and X the input tweets for training\n",
        "X=clean_tweets['clean_tweet']\n",
        "Y=clean_tweets['label']"
      ]
    },
    {
      "cell_type": "code",
      "execution_count": null,
      "id": "5d21c645",
      "metadata": {
        "id": "5d21c645"
      },
      "outputs": [],
      "source": [
        "td = TfidfVectorizer(max_features = 6000)\n",
        "X = td.fit_transform(X).toarray()"
      ]
    },
    {
      "cell_type": "code",
      "source": [
        "#Y is the outcome and X the input tweets for training\n",
        "X_test=clean_tweets_test['clean_tweet']\n",
        "Y_test=clean_tweets_test['label']"
      ],
      "metadata": {
        "id": "mljWDhKcpDzg"
      },
      "id": "mljWDhKcpDzg",
      "execution_count": null,
      "outputs": []
    },
    {
      "cell_type": "code",
      "source": [
        "td = TfidfVectorizer(max_features = 6000)\n",
        "X_test = td.fit_transform(X_test).toarray()"
      ],
      "metadata": {
        "id": "05AKbsKPpIOw"
      },
      "id": "05AKbsKPpIOw",
      "execution_count": null,
      "outputs": []
    },
    {
      "cell_type": "code",
      "source": [
        "from sklearn.model_selection import train_test_split\n",
        "X_train, X_test, Y_train, Y_test = train_test_split(X, Y, test_size = 0.3, random_state=0, shuffle = True, stratify=clean_tweets['label'])\n",
        "vectorizer = TfidfVectorizer()\n"
      ],
      "metadata": {
        "id": "6DKAuUgFq7AP"
      },
      "id": "6DKAuUgFq7AP",
      "execution_count": null,
      "outputs": []
    },
    {
      "cell_type": "code",
      "source": [
        "# LogisticRegression\n",
        "from sklearn.linear_model import LogisticRegression\n",
        "from sklearn import metrics\n",
        "from sklearn.metrics import accuracy_score\n",
        "log_reg = LogisticRegression()\n",
        "log_reg.fit(X_train, Y_train)\n",
        "predict_log = log_reg.predict(X_test)\n",
        "accuracy_score(Y_test, predict_log)"
      ],
      "metadata": {
        "colab": {
          "base_uri": "https://localhost:8080/"
        },
        "id": "2TPD5tpqsAwi",
        "outputId": "870aa04c-97a5-4d02-f447-dcdb9770ccf1"
      },
      "id": "2TPD5tpqsAwi",
      "execution_count": null,
      "outputs": [
        {
          "output_type": "execute_result",
          "data": {
            "text/plain": [
              "0.8642160540135033"
            ]
          },
          "metadata": {},
          "execution_count": 49
        }
      ]
    },
    {
      "cell_type": "code",
      "source": [
        "from sklearn.metrics import confusion_matrix\n",
        "confusion_matrix(Y_test, predict_log)"
      ],
      "metadata": {
        "id": "htYi2FRGtDRf",
        "colab": {
          "base_uri": "https://localhost:8080/"
        },
        "outputId": "df2294a5-8bf5-422c-ba43-74d5781a7b43"
      },
      "id": "htYi2FRGtDRf",
      "execution_count": null,
      "outputs": [
        {
          "output_type": "execute_result",
          "data": {
            "text/plain": [
              "array([[579,  81],\n",
              "       [100, 573]])"
            ]
          },
          "metadata": {},
          "execution_count": 50
        }
      ]
    },
    {
      "cell_type": "code",
      "source": [
        "# Logistic Regression\n",
        "from sklearn.linear_model import LogisticRegression\n",
        "from sklearn.model_selection import cross_val_score\n",
        "\n",
        "log_reg = LogisticRegression()\n",
        "log_scores = cross_val_score(log_reg, X_train, Y_train, cv=3)\n",
        "log_reg_mean = log_scores.mean()\n",
        "\n",
        "# Create a Dataframe with the results.\n",
        "d = {'Classifiers': ['Logistic Reg'], \n",
        "    'Crossval Mean Scores': [log_reg_mean]}\n",
        "\n",
        "result_df = pd.DataFrame(data=d)\n",
        "result_df\n"
      ],
      "metadata": {
        "id": "l2H6ouRGtIsH",
        "colab": {
          "base_uri": "https://localhost:8080/",
          "height": 81
        },
        "outputId": "18430907-9349-42d6-dd52-b12d67b5e72a"
      },
      "id": "l2H6ouRGtIsH",
      "execution_count": null,
      "outputs": [
        {
          "output_type": "execute_result",
          "data": {
            "text/html": [
              "\n",
              "  <div id=\"df-44303dd0-092f-4636-8e39-0cdb26f2a931\">\n",
              "    <div class=\"colab-df-container\">\n",
              "      <div>\n",
              "<style scoped>\n",
              "    .dataframe tbody tr th:only-of-type {\n",
              "        vertical-align: middle;\n",
              "    }\n",
              "\n",
              "    .dataframe tbody tr th {\n",
              "        vertical-align: top;\n",
              "    }\n",
              "\n",
              "    .dataframe thead th {\n",
              "        text-align: right;\n",
              "    }\n",
              "</style>\n",
              "<table border=\"1\" class=\"dataframe\">\n",
              "  <thead>\n",
              "    <tr style=\"text-align: right;\">\n",
              "      <th></th>\n",
              "      <th>Classifiers</th>\n",
              "      <th>Crossval Mean Scores</th>\n",
              "    </tr>\n",
              "  </thead>\n",
              "  <tbody>\n",
              "    <tr>\n",
              "      <th>0</th>\n",
              "      <td>Logistic Reg</td>\n",
              "      <td>0.862977</td>\n",
              "    </tr>\n",
              "  </tbody>\n",
              "</table>\n",
              "</div>\n",
              "      <button class=\"colab-df-convert\" onclick=\"convertToInteractive('df-44303dd0-092f-4636-8e39-0cdb26f2a931')\"\n",
              "              title=\"Convert this dataframe to an interactive table.\"\n",
              "              style=\"display:none;\">\n",
              "        \n",
              "  <svg xmlns=\"http://www.w3.org/2000/svg\" height=\"24px\"viewBox=\"0 0 24 24\"\n",
              "       width=\"24px\">\n",
              "    <path d=\"M0 0h24v24H0V0z\" fill=\"none\"/>\n",
              "    <path d=\"M18.56 5.44l.94 2.06.94-2.06 2.06-.94-2.06-.94-.94-2.06-.94 2.06-2.06.94zm-11 1L8.5 8.5l.94-2.06 2.06-.94-2.06-.94L8.5 2.5l-.94 2.06-2.06.94zm10 10l.94 2.06.94-2.06 2.06-.94-2.06-.94-.94-2.06-.94 2.06-2.06.94z\"/><path d=\"M17.41 7.96l-1.37-1.37c-.4-.4-.92-.59-1.43-.59-.52 0-1.04.2-1.43.59L10.3 9.45l-7.72 7.72c-.78.78-.78 2.05 0 2.83L4 21.41c.39.39.9.59 1.41.59.51 0 1.02-.2 1.41-.59l7.78-7.78 2.81-2.81c.8-.78.8-2.07 0-2.86zM5.41 20L4 18.59l7.72-7.72 1.47 1.35L5.41 20z\"/>\n",
              "  </svg>\n",
              "      </button>\n",
              "      \n",
              "  <style>\n",
              "    .colab-df-container {\n",
              "      display:flex;\n",
              "      flex-wrap:wrap;\n",
              "      gap: 12px;\n",
              "    }\n",
              "\n",
              "    .colab-df-convert {\n",
              "      background-color: #E8F0FE;\n",
              "      border: none;\n",
              "      border-radius: 50%;\n",
              "      cursor: pointer;\n",
              "      display: none;\n",
              "      fill: #1967D2;\n",
              "      height: 32px;\n",
              "      padding: 0 0 0 0;\n",
              "      width: 32px;\n",
              "    }\n",
              "\n",
              "    .colab-df-convert:hover {\n",
              "      background-color: #E2EBFA;\n",
              "      box-shadow: 0px 1px 2px rgba(60, 64, 67, 0.3), 0px 1px 3px 1px rgba(60, 64, 67, 0.15);\n",
              "      fill: #174EA6;\n",
              "    }\n",
              "\n",
              "    [theme=dark] .colab-df-convert {\n",
              "      background-color: #3B4455;\n",
              "      fill: #D2E3FC;\n",
              "    }\n",
              "\n",
              "    [theme=dark] .colab-df-convert:hover {\n",
              "      background-color: #434B5C;\n",
              "      box-shadow: 0px 1px 3px 1px rgba(0, 0, 0, 0.15);\n",
              "      filter: drop-shadow(0px 1px 2px rgba(0, 0, 0, 0.3));\n",
              "      fill: #FFFFFF;\n",
              "    }\n",
              "  </style>\n",
              "\n",
              "      <script>\n",
              "        const buttonEl =\n",
              "          document.querySelector('#df-44303dd0-092f-4636-8e39-0cdb26f2a931 button.colab-df-convert');\n",
              "        buttonEl.style.display =\n",
              "          google.colab.kernel.accessAllowed ? 'block' : 'none';\n",
              "\n",
              "        async function convertToInteractive(key) {\n",
              "          const element = document.querySelector('#df-44303dd0-092f-4636-8e39-0cdb26f2a931');\n",
              "          const dataTable =\n",
              "            await google.colab.kernel.invokeFunction('convertToInteractive',\n",
              "                                                     [key], {});\n",
              "          if (!dataTable) return;\n",
              "\n",
              "          const docLinkHtml = 'Like what you see? Visit the ' +\n",
              "            '<a target=\"_blank\" href=https://colab.research.google.com/notebooks/data_table.ipynb>data table notebook</a>'\n",
              "            + ' to learn more about interactive tables.';\n",
              "          element.innerHTML = '';\n",
              "          dataTable['output_type'] = 'display_data';\n",
              "          await google.colab.output.renderOutput(dataTable, element);\n",
              "          const docLink = document.createElement('div');\n",
              "          docLink.innerHTML = docLinkHtml;\n",
              "          element.appendChild(docLink);\n",
              "        }\n",
              "      </script>\n",
              "    </div>\n",
              "  </div>\n",
              "  "
            ],
            "text/plain": [
              "    Classifiers  Crossval Mean Scores\n",
              "0  Logistic Reg              0.862977"
            ]
          },
          "metadata": {},
          "execution_count": 51
        }
      ]
    },
    {
      "cell_type": "code",
      "source": [
        "log_reg.fit(X_train, Y_train)\n",
        "#predict_log = log_reg.predict(X_test, threshold = 0.4)\n",
        "decisions = (log_reg.predict_proba(X_test) >= 0.5).astype(int)\n",
        "#accuracy_score(y_test, predict_log)"
      ],
      "metadata": {
        "id": "KAj5XdJU0Cb3"
      },
      "id": "KAj5XdJU0Cb3",
      "execution_count": null,
      "outputs": []
    },
    {
      "cell_type": "code",
      "source": [
        "tp = []\n",
        "tn = []\n",
        "overall_acc = []\n",
        "for i in range(100):\n",
        "    threshold = (i+1)/100\n",
        "    decisions = (log_reg.predict_proba(X_test) >= threshold).astype(int)\n",
        "    p = []\n",
        "    for j in range(len(Y_test)):\n",
        "        p.append(1 - decisions[j][0])\n",
        "    conf = confusion_matrix(Y_test,p)\n",
        "    tp.append(conf[0][0]/(conf[0][0] + conf[0][1]))\n",
        "    tn.append(conf[1][1]/(conf[1][1] + conf[1][0]))\n",
        "    overall_acc.append((conf[0][0] + conf[1][1])/len(Y_test))\n",
        "import matplotlib.pyplot as plt\n",
        "import numpy as np\n",
        "thresh = list(np.linspace(0.01,1,100))\n",
        "plt.plot(thresh,tp,color='green')\n",
        "plt.plot(thresh, tn, color='red')\n",
        "plt.plot(thresh, overall_acc, color='black')\n",
        "plt.axvline(0.52)\n",
        "plt.axvline(0.5, linestyle='dashed')"
      ],
      "metadata": {
        "colab": {
          "base_uri": "https://localhost:8080/",
          "height": 282
        },
        "id": "xRdVZoJ6y-s6",
        "outputId": "35aa25cc-9953-4bb6-b390-aaf19f76a1d9"
      },
      "id": "xRdVZoJ6y-s6",
      "execution_count": null,
      "outputs": [
        {
          "output_type": "execute_result",
          "data": {
            "text/plain": [
              "<matplotlib.lines.Line2D at 0x7f12168ff290>"
            ]
          },
          "metadata": {},
          "execution_count": 53
        },
        {
          "output_type": "display_data",
          "data": {
            "image/png": "[encoded data removed]",
            "text/plain": [
              "<Figure size 432x288 with 1 Axes>"
            ]
          },
          "metadata": {
            "needs_background": "light"
          }
        }
      ]
    }
  ],
  "metadata": {
    "kernelspec": {
      "display_name": "Python 3 (ipykernel)",
      "language": "python",
      "name": "python3"
    },
    "language_info": {
      "codemirror_mode": {
        "name": "ipython",
        "version": 3
      },
      "file_extension": ".py",
      "mimetype": "text/x-python",
      "name": "python",
      "nbconvert_exporter": "python",
      "pygments_lexer": "ipython3",
      "version": "3.9.7"
    },
    "colab": {
      "name": "Saja_Log_Reg_Model.ipynb",
      "provenance": [],
      "collapsed_sections": []
    }
  },
  "nbformat": 4,
  "nbformat_minor": 5
}